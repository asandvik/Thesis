{
 "cells": [
  {
   "cell_type": "code",
   "execution_count": 8,
   "id": "046c1f5f-5668-4eff-8310-71cc3b7b7742",
   "metadata": {},
   "outputs": [
    {
     "name": "stdout",
     "output_type": "stream",
     "text": [
      "/notebooks/Thesis/runs/aug6/aug6_Training vs. Validation F1 Score_Validation/events.out.tfevents.1725001525.669e3d72b69c.1937291.2\n",
      "/notebooks/Thesis/runs/aug6/aug6_Training TFPN_FN/events.out.tfevents.1725001525.669e3d72b69c.1937291.13\n",
      "/notebooks/Thesis/runs/aug6/aug6_Validation TFPN_TP/events.out.tfevents.1725001525.669e3d72b69c.1937291.18\n",
      "/notebooks/Thesis/runs/aug6/aug6_Training vs. Validation Recall_Training/events.out.tfevents.1725001525.669e3d72b69c.1937291.7\n",
      "/notebooks/Thesis/runs/aug6/aug6_Training vs. Validation Recall_Validation/events.out.tfevents.1725001525.669e3d72b69c.1937291.8\n",
      "/notebooks/Thesis/runs/aug6/aug6_Training vs. Validation Loss_Validation/events.out.tfevents.1725001525.669e3d72b69c.1937291.4\n",
      "/notebooks/Thesis/runs/aug6/aug6_Training vs. Validation F1 Score_Training/events.out.tfevents.1725001525.669e3d72b69c.1937291.1\n",
      "/notebooks/Thesis/runs/aug6/aug6_Validation TFPN_TN/events.out.tfevents.1725001525.669e3d72b69c.1937291.15\n",
      "/notebooks/Thesis/runs/aug6/aug6_Training TFPN_TP/events.out.tfevents.1725001525.669e3d72b69c.1937291.14\n",
      "/notebooks/Thesis/runs/aug6/aug6_Training vs. Validation Precision_Training/events.out.tfevents.1725001525.669e3d72b69c.1937291.9\n",
      "/notebooks/Thesis/runs/aug6/aug6_Training TFPN_FP/events.out.tfevents.1725001525.669e3d72b69c.1937291.12\n",
      "/notebooks/Thesis/runs/aug6/aug6_Validation TFPN_FN/events.out.tfevents.1725001525.669e3d72b69c.1937291.17\n",
      "/notebooks/Thesis/runs/aug6/aug6_Training vs. Validation Precision_Validation/events.out.tfevents.1725001525.669e3d72b69c.1937291.10\n",
      "/notebooks/Thesis/runs/aug6/aug6_Validation TFPN_FP/events.out.tfevents.1725001525.669e3d72b69c.1937291.16\n",
      "/notebooks/Thesis/runs/aug6/aug6_Training TFPN_TN/events.out.tfevents.1725001525.669e3d72b69c.1937291.11\n",
      "/notebooks/Thesis/runs/aug6/aug6_Training vs. Validation Loss_Training/events.out.tfevents.1725001525.669e3d72b69c.1937291.3\n"
     ]
    }
   ],
   "source": [
    "import os\n",
    "\n",
    "folder = \"/notebooks/Thesis/runs/aug6/\"\n",
    "\n",
    "key = \"1725001525\"\n",
    "\n",
    "for root, dirs, files in os.walk(folder):\n",
    "    for name in files:\n",
    "        if key in os.path.join(root, name):\n",
    "            print(os.path.join(root, name))\n",
    "            os.remove(os.path.join(root, name))"
   ]
  },
  {
   "cell_type": "code",
   "execution_count": null,
   "id": "a7909283-d104-4407-bcfc-7f31ef4330f9",
   "metadata": {},
   "outputs": [],
   "source": []
  }
 ],
 "metadata": {
  "kernelspec": {
   "display_name": "Python 3 (ipykernel)",
   "language": "python",
   "name": "python3"
  },
  "language_info": {
   "codemirror_mode": {
    "name": "ipython",
    "version": 3
   },
   "file_extension": ".py",
   "mimetype": "text/x-python",
   "name": "python",
   "nbconvert_exporter": "python",
   "pygments_lexer": "ipython3",
   "version": "3.10.13"
  }
 },
 "nbformat": 4,
 "nbformat_minor": 5
}
