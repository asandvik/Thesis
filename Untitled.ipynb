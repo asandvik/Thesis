{
 "cells": [
  {
   "cell_type": "code",
   "execution_count": 1,
   "id": "30fa44ab-7881-438b-94c2-2346a7b99e59",
   "metadata": {},
   "outputs": [
    {
     "ename": "ImportError",
     "evalue": "cannot import name 'display_np_arrays_as_images' from 'utils' (/conda/envs/data-science-stack-2.11.0/lib/python3.10/site-packages/utils/__init__.py)",
     "output_type": "error",
     "traceback": [
      "\u001b[0;31m---------------------------------------------------------------------------\u001b[0m",
      "\u001b[0;31mImportError\u001b[0m                               Traceback (most recent call last)",
      "Cell \u001b[0;32mIn[1], line 2\u001b[0m\n\u001b[1;32m      1\u001b[0m \u001b[38;5;28;01mimport\u001b[39;00m \u001b[38;5;21;01mnumpy\u001b[39;00m\n\u001b[0;32m----> 2\u001b[0m \u001b[38;5;28;01mfrom\u001b[39;00m \u001b[38;5;21;01mutils\u001b[39;00m \u001b[38;5;28;01mimport\u001b[39;00m display_np_arrays_as_images\n",
      "\u001b[0;31mImportError\u001b[0m: cannot import name 'display_np_arrays_as_images' from 'utils' (/conda/envs/data-science-stack-2.11.0/lib/python3.10/site-packages/utils/__init__.py)"
     ]
    }
   ],
   "source": [
    "import numpy\n",
    "from utils import display_np_arrays_as_images"
   ]
  },
  {
   "cell_type": "code",
   "execution_count": null,
   "id": "e57992c7-6303-4d83-8786-f2b68343fda8",
   "metadata": {},
   "outputs": [],
   "source": []
  }
 ],
 "metadata": {
  "kernelspec": {
   "display_name": "Python 3 (ipykernel)",
   "language": "python",
   "name": "python3"
  },
  "language_info": {
   "codemirror_mode": {
    "name": "ipython",
    "version": 3
   },
   "file_extension": ".py",
   "mimetype": "text/x-python",
   "name": "python",
   "nbconvert_exporter": "python",
   "pygments_lexer": "ipython3",
   "version": "3.10.13"
  }
 },
 "nbformat": 4,
 "nbformat_minor": 5
}
