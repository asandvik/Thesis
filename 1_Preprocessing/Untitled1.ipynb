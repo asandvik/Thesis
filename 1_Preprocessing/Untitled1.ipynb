{
 "cells": [
  {
   "cell_type": "code",
   "execution_count": 20,
   "id": "9c8e1507-9e1a-4c0d-ba6c-7e02fcff7e38",
   "metadata": {},
   "outputs": [],
   "source": [
    "import pandas as pd"
   ]
  },
  {
   "cell_type": "code",
   "execution_count": 18,
   "id": "89d4a4b6-bb35-42e4-b299-e8ff7576cba2",
   "metadata": {},
   "outputs": [],
   "source": [
    "train = pd.read_csv('/notebooks/Thesis/annotations/carcar/anno_train.csv', names=['id', 'name', 'count'])\n",
    "valid = pd.read_csv('/notebooks/Thesis/annotations/carcar/anno_valid.csv', names=['id', 'name', 'count'])\n",
    "test = pd.read_csv('/notebooks/Thesis/annotations/carcar/anno_test.csv', names=['id', 'name', 'count'])"
   ]
  },
  {
   "cell_type": "code",
   "execution_count": 8,
   "id": "37e8d0a7-3d3f-4b39-9088-8fd9bda312b5",
   "metadata": {},
   "outputs": [
    {
     "name": "stdout",
     "output_type": "stream",
     "text": [
      "        id               name  count\n",
      "0   436572  k932VZGqE6c04.mp4      0\n",
      "1   436857  nsHYg3ENgk407.mp4      0\n",
      "2   436541  ieFXAiS97A014.mp4      0\n",
      "3   436262  bXaAw1730zE01.mp4      0\n",
      "4   436017  7YEUfIVVk9Y05.mp4      0\n",
      "5   436868  nSK7cehJiCE08.mp4      0\n",
      "6   437358  Z52L6jGdSkY13.mp4      0\n",
      "7   436006  6mVcTFd5TzI28.mp4      0\n",
      "8   436535  ieFXAiS97A008.mp4      0\n",
      "9   436535  ieFXAiS97A008.mp4      1\n",
      "10  436535  ieFXAiS97A008.mp4      2\n",
      "11  437028  tDN-mwNSJc804.mp4      0\n",
      "12  436239  bSZkOI7eF8k21.mp4      0\n",
      "13  437196  xKT7khciy-c17.mp4      0\n",
      "14  436822  nkFprOkNnRE40.mp4      0\n",
      "15  436715  mOwuW8t6-GQ03.mp4      0\n",
      "16  436212  BSNh9UoKY5403.mp4      0\n",
      "17  436557  IuHk11-Yzn006.mp4      0\n",
      "18  436649  mg6PLF8sHWw03.mp4      0\n",
      "19  436538  ieFXAiS97A011.mp4      0\n",
      "20  435954  3p_-1RjvCmw01.mp4      0\n",
      "21  435923  1XIS9UOwC_Y02.mp4      0\n",
      "22  436427  HSDqCUHuz8Q04.mp4      0\n",
      "23  436887  oopO9qXFlws01.mp4      0\n",
      "24  435927  1XIS9UOwC_Y06.mp4      0\n",
      "25  436899  pA6q7Q2EQrw09.mp4      0\n",
      "26  436762  NCmlbDaj-uE12.mp4      0\n",
      "27  436980  rQy2l6gxB8c03.mp4      0\n",
      "28  436172  b46xvHwxpcY18.mp4      0\n",
      "29  436549  ir8j5bGBTiE01.mp4      0\n",
      "30  435955  3p_-1RjvCmw02.mp4      0\n",
      "31  437194  xKT7khciy-c15.mp4      0\n",
      "32  437194  xKT7khciy-c15.mp4      1\n",
      "33  437064  UcJKeuDYOzc03.mp4      0\n",
      "34  436525  IAhGJNVqs1M14.mp4      1\n",
      "35  437163  wScVipt0pWk13.mp4      0\n",
      "36  436238  bSZkOI7eF8k20.mp4      0\n",
      "37  437158  wScVipt0pWk08.mp4      0\n",
      "38  436045  651RQwxB3WA06.mp4      0\n",
      "39  436205  bPQ4GUk8ens03.mp4      0\n",
      "40  437175  Xe9CoVqpv9c01.mp4      0\n",
      "41  436502  hZm7dC8qBO016.mp4      0\n",
      "42  436052  651RQwxB3WA13.mp4      0\n",
      "43  435981  6mVcTFd5TzI04.mp4      0\n",
      "44  436101  ALFF5620ljk02.mp4      0\n",
      "45  436756  NCmlbDaj-uE07.mp4      0\n"
     ]
    }
   ],
   "source": [
    "print(train)"
   ]
  },
  {
   "cell_type": "code",
   "execution_count": 19,
   "id": "942428a8-7006-4413-90fc-4bb3972d2732",
   "metadata": {},
   "outputs": [
    {
     "name": "stdout",
     "output_type": "stream",
     "text": [
      "332\n",
      "43\n",
      "43\n"
     ]
    }
   ],
   "source": [
    "print(len(train.name.unique()))\n",
    "print(len(valid.name.unique()))\n",
    "print(len(test.name.unique()))"
   ]
  },
  {
   "cell_type": "code",
   "execution_count": null,
   "id": "d3ff87d4-b579-4e3b-92a8-b3549e52e416",
   "metadata": {},
   "outputs": [],
   "source": []
  }
 ],
 "metadata": {
  "kernelspec": {
   "display_name": "Python 3 (ipykernel)",
   "language": "python",
   "name": "python3"
  },
  "language_info": {
   "codemirror_mode": {
    "name": "ipython",
    "version": 3
   },
   "file_extension": ".py",
   "mimetype": "text/x-python",
   "name": "python",
   "nbconvert_exporter": "python",
   "pygments_lexer": "ipython3",
   "version": "3.10.13"
  }
 },
 "nbformat": 4,
 "nbformat_minor": 5
}
